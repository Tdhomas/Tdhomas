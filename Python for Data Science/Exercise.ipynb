{
 "cells": [
  {
   "cell_type": "markdown",
   "id": "3c67cd8b",
   "metadata": {},
   "source": [
    "# Task 1 "
   ]
  },
  {
   "cell_type": "code",
   "execution_count": 32,
   "id": "56f8ab07",
   "metadata": {},
   "outputs": [],
   "source": [
    "from datetime import datetime, timedelta\n",
    "def DeadlineDelivery(date_initial,max_days):\n",
    "    if (datetime.today()-date_initial<timedelta(max_days)):\n",
    "        return True\n",
    "    else:\n",
    "        return False"
   ]
  },
  {
   "cell_type": "code",
   "execution_count": 34,
   "id": "88f01649",
   "metadata": {},
   "outputs": [
    {
     "name": "stdout",
     "output_type": "stream",
     "text": [
      "True\n"
     ]
    }
   ],
   "source": [
    "print(DeadlineDelivery(datetime(2022, 2, 6),30))"
   ]
  },
  {
   "cell_type": "markdown",
   "id": "638972bd",
   "metadata": {},
   "source": [
    "# Task 2"
   ]
  },
  {
   "cell_type": "code",
   "execution_count": 43,
   "id": "392656a2",
   "metadata": {},
   "outputs": [],
   "source": [
    "def IsEmail1(string):\n",
    "    if( '@' in string):\n",
    "        if('.' in string  ):\n",
    "            return True\n",
    "    else:\n",
    "        return False\n"
   ]
  },
  {
   "cell_type": "code",
   "execution_count": 44,
   "id": "6028e185",
   "metadata": {},
   "outputs": [
    {
     "name": "stdout",
     "output_type": "stream",
     "text": [
      "True\n",
      "False\n",
      "True\n"
     ]
    }
   ],
   "source": [
    "print(IsEmail1(\"thomas@gmail.com\"))\n",
    "print(IsEmail1(\"thomasgmailcom\"))\n",
    "print(IsEmail1(\"thomas.gmail@com\"))"
   ]
  },
  {
   "cell_type": "code",
   "execution_count": 47,
   "id": "21a976d6",
   "metadata": {},
   "outputs": [],
   "source": [
    "import re\n",
    "\n",
    "def IsEmail2(string):\n",
    "    x=re.findall('[.@]',string)\n",
    "    y=['@', '.']\n",
    "    if(x==y):\n",
    "        return True\n",
    "    else:\n",
    "        return False"
   ]
  },
  {
   "cell_type": "code",
   "execution_count": 50,
   "id": "34ffab95",
   "metadata": {},
   "outputs": [
    {
     "name": "stdout",
     "output_type": "stream",
     "text": [
      "True\n",
      "False\n",
      "False\n"
     ]
    }
   ],
   "source": [
    "print(IsEmail2(\"thomas@gmail.com\"))\n",
    "print(IsEmail2(\"thomasgmailcom\"))\n",
    "print(IsEmail2(\"thomas.gmail@pp.com\"))"
   ]
  }
 ],
 "metadata": {
  "kernelspec": {
   "display_name": "Python 3",
   "language": "python",
   "name": "python3"
  },
  "language_info": {
   "codemirror_mode": {
    "name": "ipython",
    "version": 3
   },
   "file_extension": ".py",
   "mimetype": "text/x-python",
   "name": "python",
   "nbconvert_exporter": "python",
   "pygments_lexer": "ipython3",
   "version": "3.6.8"
  }
 },
 "nbformat": 4,
 "nbformat_minor": 5
}

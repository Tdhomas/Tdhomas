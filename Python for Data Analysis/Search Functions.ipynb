{
 "cells": [
  {
   "cell_type": "markdown",
   "id": "59da6111",
   "metadata": {
    "scrolled": true
   },
   "source": [
    "# Exercise"
   ]
  },
  {
   "cell_type": "code",
   "execution_count": 21,
   "id": "5ffdd697",
   "metadata": {},
   "outputs": [],
   "source": [
    "tab =[1,5,2,8,9,3,4,6,7]\n",
    "tabSorted=[1,2,3,4,5,6,7,8,9]\n",
    "k=0\n",
    "def LinearSearch(array, searchValue):\n",
    "    for i in range(len(array)):\n",
    "        if(array[i]==searchValue):\n",
    "            k=i\n",
    "            return 1, k\n",
    "    return -1\n",
    "        \n",
    "def LinearSearchInASortedArray(array, searchValue):\n",
    "    for i in range(len(array)):\n",
    "        if(searchValue<array[i]):\n",
    "            return -1\n",
    "        elif(array[i]==searchValue):\n",
    "            k=i\n",
    "            return 1, k\n",
    "    return -1\n",
    "    \n",
    "def BinarySearch(array,a,b, searchValue):\n",
    "    if(a<=b):\n",
    "        mid=(a+b)//2\n",
    "        if(array[mid]==searchValue):\n",
    "            k=mid\n",
    "            return 1, k\n",
    "        elif(array[mid]>searchValue):\n",
    "            return BinarySearch(array, a, mid-1, searchValue)\n",
    "        else:\n",
    "            return BinarySearch(array, mid+1, b, searchValue)\n",
    "    else:\n",
    "        return -1\n"
   ]
  },
  {
   "cell_type": "code",
   "execution_count": 28,
   "id": "9f37a9bb",
   "metadata": {},
   "outputs": [
    {
     "name": "stdout",
     "output_type": "stream",
     "text": [
      "(1, 2)\n",
      "-1\n",
      "(1, 7)\n"
     ]
    }
   ],
   "source": [
    "print (LinearSearch(tab,2))\n",
    "print(LinearSearchInASortedArray(tabSorted, 10))\n",
    "print(BinarySearch(tabSorted,0,len(tabSorted), 8))"
   ]
  }
 ],
 "metadata": {
  "kernelspec": {
   "display_name": "Python 3",
   "language": "python",
   "name": "python3"
  },
  "language_info": {
   "codemirror_mode": {
    "name": "ipython",
    "version": 3
   },
   "file_extension": ".py",
   "mimetype": "text/x-python",
   "name": "python",
   "nbconvert_exporter": "python",
   "pygments_lexer": "ipython3",
   "version": "3.6.8"
  }
 },
 "nbformat": 4,
 "nbformat_minor": 5
}

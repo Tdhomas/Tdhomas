{
 "cells": [
  {
   "cell_type": "markdown",
   "id": "a1e4743a",
   "metadata": {},
   "source": [
    "# Exercise 1: "
   ]
  },
  {
   "cell_type": "code",
   "execution_count": 10,
   "id": "aabb81d4",
   "metadata": {},
   "outputs": [
    {
     "name": "stdout",
     "output_type": "stream",
     "text": [
      "Sum of the row 0 = 141.9\n",
      "Sum of the row 1 = 140.5\n",
      "Sum of the row 2 = 112.19999999999999\n",
      "Sum of the row 3 = 125.32000000000002\n",
      "Sum of the row 4 = 122.80000000000001\n",
      "Sum of the row 5 = 110.69999999999999\n",
      "Sum of the row 6 = 139.10000000000002\n",
      "Sum of the row 7 = 119.82\n",
      "Sum of the row 8 = 131.60000000000002\n",
      "Sum of the row 9 = 101.19999999999999\n",
      "Sum of the column 0 = 143.19999999999996\n",
      "Sum of the column 1 = 116.20000000000002\n",
      "Sum of the column 2 = 108.19999999999999\n",
      "Sum of the column 3 = 86.42000000000002\n",
      "Sum of the column 4 = 113.8\n",
      "Sum of the column 5 = 156.4\n",
      "Sum of the column 6 = 141.8\n",
      "Sum of the column 7 = 92.8\n",
      "Sum of the column 8 = 160.39999999999998\n",
      "Sum of the column 9 = 125.91999999999997\n",
      "[141.9, 140.5, 112.19999999999999, 125.32000000000002, 122.80000000000001, 110.69999999999999, 139.10000000000002, 119.82, 131.60000000000002, 101.19999999999999] [143.19999999999996, 116.20000000000002, 108.19999999999999, 86.42000000000002, 113.8, 156.4, 141.8, 92.8, 160.39999999999998, 125.91999999999997]\n"
     ]
    }
   ],
   "source": [
    "import pandas as pd\n",
    "import numpy as np\n",
    "data=pd.read_csv('data.csv')\n",
    "matrix=data.to_numpy()\n",
    "vec_row=[]\n",
    "vec_column=[]\n",
    "\n",
    "def row_sum(arr) :\n",
    "    for i in range(len(arr)) :\n",
    "        sum = 0\n",
    "        for j in range(len(arr[0])) :\n",
    "            sum += arr[i][j]\n",
    "        print(\"Sum of the row\",i,\"=\",sum)\n",
    "        vec_row.append(sum)\n",
    "        \n",
    "def column_sum(arr) :\n",
    "    for i in range(len(arr)) :\n",
    "        sum = 0\n",
    "        for j in range(len(arr[0])) :\n",
    "            sum += arr[j][i]\n",
    "        print(\"Sum of the column\",i,\"=\",sum)\n",
    "        vec_column.append(sum)\n",
    "\n",
    "\n",
    "row_sum(matrix)\n",
    "column_sum(matrix)\n",
    "print (vec_row, vec_column)\n",
    "\n"
   ]
  },
  {
   "cell_type": "code",
   "execution_count": 5,
   "id": "92e5e843",
   "metadata": {},
   "outputs": [
    {
     "data": {
      "text/html": [
       "<div>\n",
       "<style scoped>\n",
       "    .dataframe tbody tr th:only-of-type {\n",
       "        vertical-align: middle;\n",
       "    }\n",
       "\n",
       "    .dataframe tbody tr th {\n",
       "        vertical-align: top;\n",
       "    }\n",
       "\n",
       "    .dataframe thead th {\n",
       "        text-align: right;\n",
       "    }\n",
       "</style>\n",
       "<table border=\"1\" class=\"dataframe\">\n",
       "  <thead>\n",
       "    <tr style=\"text-align: right;\">\n",
       "      <th></th>\n",
       "      <th>Col0</th>\n",
       "      <th>Col1</th>\n",
       "      <th>Col2</th>\n",
       "      <th>Col3</th>\n",
       "      <th>Col4</th>\n",
       "      <th>Col5</th>\n",
       "      <th>Col6</th>\n",
       "      <th>Col7</th>\n",
       "      <th>Col8</th>\n",
       "      <th>Col9</th>\n",
       "    </tr>\n",
       "  </thead>\n",
       "  <tbody>\n",
       "    <tr>\n",
       "      <th>0</th>\n",
       "      <td>21.8</td>\n",
       "      <td>1.2</td>\n",
       "      <td>22.3</td>\n",
       "      <td>7.30</td>\n",
       "      <td>21.7</td>\n",
       "      <td>33.2</td>\n",
       "      <td>0.5</td>\n",
       "      <td>12.4</td>\n",
       "      <td>2.8</td>\n",
       "      <td>18.7</td>\n",
       "    </tr>\n",
       "    <tr>\n",
       "      <th>1</th>\n",
       "      <td>13.5</td>\n",
       "      <td>14.5</td>\n",
       "      <td>2.1</td>\n",
       "      <td>5.60</td>\n",
       "      <td>21.7</td>\n",
       "      <td>13.5</td>\n",
       "      <td>32.1</td>\n",
       "      <td>4.7</td>\n",
       "      <td>24.5</td>\n",
       "      <td>8.3</td>\n",
       "    </tr>\n",
       "    <tr>\n",
       "      <th>2</th>\n",
       "      <td>23.7</td>\n",
       "      <td>11.5</td>\n",
       "      <td>9.1</td>\n",
       "      <td>5.60</td>\n",
       "      <td>22.8</td>\n",
       "      <td>3.2</td>\n",
       "      <td>2.1</td>\n",
       "      <td>4.7</td>\n",
       "      <td>23.9</td>\n",
       "      <td>5.6</td>\n",
       "    </tr>\n",
       "    <tr>\n",
       "      <th>3</th>\n",
       "      <td>11.6</td>\n",
       "      <td>7.0</td>\n",
       "      <td>18.6</td>\n",
       "      <td>3.32</td>\n",
       "      <td>1.7</td>\n",
       "      <td>4.7</td>\n",
       "      <td>24.5</td>\n",
       "      <td>8.3</td>\n",
       "      <td>13.5</td>\n",
       "      <td>32.1</td>\n",
       "    </tr>\n",
       "    <tr>\n",
       "      <th>4</th>\n",
       "      <td>22.8</td>\n",
       "      <td>3.2</td>\n",
       "      <td>2.1</td>\n",
       "      <td>5.60</td>\n",
       "      <td>11.6</td>\n",
       "      <td>7.0</td>\n",
       "      <td>18.6</td>\n",
       "      <td>3.3</td>\n",
       "      <td>24.7</td>\n",
       "      <td>23.9</td>\n",
       "    </tr>\n",
       "  </tbody>\n",
       "</table>\n",
       "</div>"
      ],
      "text/plain": [
       "   Col0  Col1  Col2  Col3  Col4  Col5  Col6  Col7  Col8  Col9\n",
       "0  21.8   1.2  22.3  7.30  21.7  33.2   0.5  12.4   2.8  18.7\n",
       "1  13.5  14.5   2.1  5.60  21.7  13.5  32.1   4.7  24.5   8.3\n",
       "2  23.7  11.5   9.1  5.60  22.8   3.2   2.1   4.7  23.9   5.6\n",
       "3  11.6   7.0  18.6  3.32   1.7   4.7  24.5   8.3  13.5  32.1\n",
       "4  22.8   3.2   2.1  5.60  11.6   7.0  18.6   3.3  24.7  23.9"
      ]
     },
     "execution_count": 5,
     "metadata": {},
     "output_type": "execute_result"
    }
   ],
   "source": [
    "data.head()"
   ]
  },
  {
   "cell_type": "code",
   "execution_count": 11,
   "id": "0fe45742",
   "metadata": {},
   "outputs": [
    {
     "name": "stdout",
     "output_type": "stream",
     "text": [
      "[141.9  140.5  112.2  125.32 122.8  110.7  139.1  119.82 131.6  101.2 ] [143.2  116.2  108.2   86.42 113.8  156.4  141.8   92.8  160.4  125.92]\n"
     ]
    }
   ],
   "source": [
    "vec_row1=np.sum(matrix, axis=1)\n",
    "vec_column1=np.sum(matrix, axis=0)\n",
    "print(vec_row1,vec_column1)"
   ]
  },
  {
   "cell_type": "markdown",
   "id": "4b1d6fe5",
   "metadata": {},
   "source": [
    "# Exercise 2 :\n"
   ]
  },
  {
   "cell_type": "code",
   "execution_count": 18,
   "id": "4e8d8826",
   "metadata": {},
   "outputs": [
    {
     "data": {
      "text/html": [
       "<div>\n",
       "<style scoped>\n",
       "    .dataframe tbody tr th:only-of-type {\n",
       "        vertical-align: middle;\n",
       "    }\n",
       "\n",
       "    .dataframe tbody tr th {\n",
       "        vertical-align: top;\n",
       "    }\n",
       "\n",
       "    .dataframe thead th {\n",
       "        text-align: right;\n",
       "    }\n",
       "</style>\n",
       "<table border=\"1\" class=\"dataframe\">\n",
       "  <thead>\n",
       "    <tr style=\"text-align: right;\">\n",
       "      <th></th>\n",
       "      <th>Order_ID</th>\n",
       "      <th>Order_Date</th>\n",
       "      <th>Order_Priority</th>\n",
       "      <th>Ord_id</th>\n",
       "    </tr>\n",
       "  </thead>\n",
       "  <tbody>\n",
       "    <tr>\n",
       "      <th>0</th>\n",
       "      <td>3</td>\n",
       "      <td>13-10-2010</td>\n",
       "      <td>LOW</td>\n",
       "      <td>Ord_1</td>\n",
       "    </tr>\n",
       "    <tr>\n",
       "      <th>1</th>\n",
       "      <td>293</td>\n",
       "      <td>01-10-2012</td>\n",
       "      <td>HIGH</td>\n",
       "      <td>Ord_2</td>\n",
       "    </tr>\n",
       "    <tr>\n",
       "      <th>2</th>\n",
       "      <td>483</td>\n",
       "      <td>10-07-2011</td>\n",
       "      <td>HIGH</td>\n",
       "      <td>Ord_3</td>\n",
       "    </tr>\n",
       "    <tr>\n",
       "      <th>3</th>\n",
       "      <td>515</td>\n",
       "      <td>28-08-2010</td>\n",
       "      <td>NOT SPECIFIED</td>\n",
       "      <td>Ord_4</td>\n",
       "    </tr>\n",
       "    <tr>\n",
       "      <th>4</th>\n",
       "      <td>613</td>\n",
       "      <td>17-06-2011</td>\n",
       "      <td>HIGH</td>\n",
       "      <td>Ord_5</td>\n",
       "    </tr>\n",
       "    <tr>\n",
       "      <th>...</th>\n",
       "      <td>...</td>\n",
       "      <td>...</td>\n",
       "      <td>...</td>\n",
       "      <td>...</td>\n",
       "    </tr>\n",
       "    <tr>\n",
       "      <th>5501</th>\n",
       "      <td>47360</td>\n",
       "      <td>08-10-2010</td>\n",
       "      <td>NOT SPECIFIED</td>\n",
       "      <td>Ord_5502</td>\n",
       "    </tr>\n",
       "    <tr>\n",
       "      <th>5502</th>\n",
       "      <td>52706</td>\n",
       "      <td>09-07-2012</td>\n",
       "      <td>LOW</td>\n",
       "      <td>Ord_5503</td>\n",
       "    </tr>\n",
       "    <tr>\n",
       "      <th>5503</th>\n",
       "      <td>54279</td>\n",
       "      <td>30-07-2011</td>\n",
       "      <td>HIGH</td>\n",
       "      <td>Ord_5504</td>\n",
       "    </tr>\n",
       "    <tr>\n",
       "      <th>5504</th>\n",
       "      <td>55558</td>\n",
       "      <td>09-08-2010</td>\n",
       "      <td>MEDIUM</td>\n",
       "      <td>Ord_5505</td>\n",
       "    </tr>\n",
       "    <tr>\n",
       "      <th>5505</th>\n",
       "      <td>56581</td>\n",
       "      <td>08-02-2009</td>\n",
       "      <td>HIGH</td>\n",
       "      <td>Ord_5506</td>\n",
       "    </tr>\n",
       "  </tbody>\n",
       "</table>\n",
       "<p>5506 rows × 4 columns</p>\n",
       "</div>"
      ],
      "text/plain": [
       "      Order_ID  Order_Date Order_Priority    Ord_id\n",
       "0            3  13-10-2010            LOW     Ord_1\n",
       "1          293  01-10-2012           HIGH     Ord_2\n",
       "2          483  10-07-2011           HIGH     Ord_3\n",
       "3          515  28-08-2010  NOT SPECIFIED     Ord_4\n",
       "4          613  17-06-2011           HIGH     Ord_5\n",
       "...        ...         ...            ...       ...\n",
       "5501     47360  08-10-2010  NOT SPECIFIED  Ord_5502\n",
       "5502     52706  09-07-2012            LOW  Ord_5503\n",
       "5503     54279  30-07-2011           HIGH  Ord_5504\n",
       "5504     55558  09-08-2010         MEDIUM  Ord_5505\n",
       "5505     56581  08-02-2009           HIGH  Ord_5506\n",
       "\n",
       "[5506 rows x 4 columns]"
      ]
     },
     "execution_count": 18,
     "metadata": {},
     "output_type": "execute_result"
    }
   ],
   "source": [
    "import pandas as pd\n",
    "from numpy import median\n",
    "market=pd.read_csv('market_fact.csv')\n",
    "orders=pd.read_csv('orders_dimen.csv')\n",
    "orders"
   ]
  },
  {
   "cell_type": "code",
   "execution_count": 3,
   "id": "d3307253",
   "metadata": {},
   "outputs": [
    {
     "data": {
      "text/plain": [
       "<AxesSubplot:>"
      ]
     },
     "execution_count": 3,
     "metadata": {},
     "output_type": "execute_result"
    },
    {
     "data": {
      "image/png": "[encoded data removed]",
      "text/plain": [
       "<Figure size 432x288 with 1 Axes>"
      ]
     },
     "metadata": {
      "needs_background": "light"
     },
     "output_type": "display_data"
    }
   ],
   "source": [
    "cust_order = pd.merge(market,orders, on = 'Ord_id', how = \"inner\")\n",
    "cust_order['Order_Priority'].value_counts().plot(kind='bar')"
   ]
  },
  {
   "cell_type": "code",
   "execution_count": 19,
   "id": "a1a8b638",
   "metadata": {},
   "outputs": [
    {
     "data": {
      "text/plain": [
       "6.27"
      ]
     },
     "execution_count": 19,
     "metadata": {},
     "output_type": "execute_result"
    }
   ],
   "source": [
    "cust_order[cust_order['Order_Priority']=='LOW' ]['Shipping_Cost'].median()"
   ]
  },
  {
   "cell_type": "code",
   "execution_count": 20,
   "id": "bf12bb61",
   "metadata": {},
   "outputs": [
    {
     "data": {
      "text/plain": [
       "6.13"
      ]
     },
     "execution_count": 20,
     "metadata": {},
     "output_type": "execute_result"
    }
   ],
   "source": [
    "cust_order[cust_order['Order_Priority']=='HIGH' ]['Shipping_Cost'].median()"
   ]
  },
  {
   "cell_type": "code",
   "execution_count": 21,
   "id": "e3f67bfd",
   "metadata": {},
   "outputs": [
    {
     "data": {
      "text/plain": [
       "5.965"
      ]
     },
     "execution_count": 21,
     "metadata": {},
     "output_type": "execute_result"
    }
   ],
   "source": [
    "cust_order[cust_order['Order_Priority']=='NOT SPECIFIED' ]['Shipping_Cost'].median()"
   ]
  },
  {
   "cell_type": "code",
   "execution_count": 22,
   "id": "de49958e",
   "metadata": {},
   "outputs": [
    {
     "data": {
      "text/plain": [
       "6.12"
      ]
     },
     "execution_count": 22,
     "metadata": {},
     "output_type": "execute_result"
    }
   ],
   "source": [
    "cust_order[cust_order['Order_Priority']=='MEDIUM' ]['Shipping_Cost'].median()"
   ]
  },
  {
   "cell_type": "code",
   "execution_count": 23,
   "id": "8ef3b7c0",
   "metadata": {},
   "outputs": [
    {
     "data": {
      "text/plain": [
       "5.99"
      ]
     },
     "execution_count": 23,
     "metadata": {},
     "output_type": "execute_result"
    }
   ],
   "source": [
    "cust_order[cust_order['Order_Priority']=='CRITICAL' ]['Shipping_Cost'].median()"
   ]
  },
  {
   "cell_type": "code",
   "execution_count": 54,
   "id": "78982a6b",
   "metadata": {},
   "outputs": [
    {
     "name": "stdout",
     "output_type": "stream",
     "text": [
      "Median of HIGH : 6.13\n",
      "Median of LOW : 6.27\n",
      "Median of CRITICAL : 5.99\n",
      "Median of NOT SPECIFIED : 5.965\n",
      "Median of MEDIUM : 6.12\n",
      "Greatest median :  6.27\n"
     ]
    }
   ],
   "source": [
    "#Merging the data\n",
    "list=orders[\"Order_Priority\"]\n",
    "fin=list.value_counts()\n",
    "op=fin.index\n",
    "max=0\n",
    "for i in op:\n",
    "    #Take only one category of order priority\n",
    "    res =cust_order[cust_order[\"Order_Priority\"]==i]\n",
    "\n",
    "    #Take the column of shipping cost\n",
    "    sc=res[\"Shipping_Cost\"]\n",
    "\n",
    "    #Convert the shipping costs into a matrix\n",
    "    mat=sc.to_numpy()\n",
    "\n",
    "    #With numpy, find the median\n",
    "    median=np.median(mat)\n",
    "    print('Median of',i , ':',median )\n",
    "    \n",
    "    #Keep the greatest median\n",
    "    if(max<median):\n",
    "        max=median\n",
    "print('Greatest median : ', max)"
   ]
  },
  {
   "cell_type": "code",
   "execution_count": 53,
   "id": "7d32ff8e",
   "metadata": {},
   "outputs": [
    {
     "data": {
      "text/plain": [
       "Index(['HIGH', 'LOW', 'CRITICAL', 'NOT SPECIFIED', 'MEDIUM'], dtype='object')"
      ]
     },
     "execution_count": 53,
     "metadata": {},
     "output_type": "execute_result"
    }
   ],
   "source": [
    "orders['Order_Priority'].value_counts().index"
   ]
  },
  {
   "cell_type": "code",
   "execution_count": 58,
   "id": "e3c69f8f",
   "metadata": {},
   "outputs": [
    {
     "data": {
      "text/plain": [
       "5       26.30\n",
       "18       6.81\n",
       "28       4.00\n",
       "30       6.89\n",
       "38       2.27\n",
       "        ...  \n",
       "8371     8.99\n",
       "8378    48.20\n",
       "8379     5.34\n",
       "8389     0.98\n",
       "8396     6.92\n",
       "Name: Shipping_Cost, Length: 1720, dtype: float64"
      ]
     },
     "execution_count": 58,
     "metadata": {},
     "output_type": "execute_result"
    }
   ],
   "source": [
    "cust_order[cust_order[\"Order_Priority\"]=='LOW']['Shipping_Cost']"
   ]
  }
 ],
 "metadata": {
  "kernelspec": {
   "display_name": "Python 3",
   "language": "python",
   "name": "python3"
  },
  "language_info": {
   "codemirror_mode": {
    "name": "ipython",
    "version": 3
   },
   "file_extension": ".py",
   "mimetype": "text/x-python",
   "name": "python",
   "nbconvert_exporter": "python",
   "pygments_lexer": "ipython3",
   "version": "3.6.8"
  }
 },
 "nbformat": 4,
 "nbformat_minor": 5
}

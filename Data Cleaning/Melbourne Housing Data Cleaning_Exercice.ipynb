{
 "cells": [
  {
   "cell_type": "code",
   "execution_count": 2,
   "metadata": {},
   "outputs": [],
   "source": [
    "# 0. Importing the basic libraries\n",
    "import numpy as np\n",
    "import pandas as pd\n",
    "import seaborn as sns\n",
    "import matplotlib.pyplot as plt"
   ]
  },
  {
   "cell_type": "code",
   "execution_count": 53,
   "metadata": {
    "scrolled": true
   },
   "outputs": [
    {
     "data": {
      "text/plain": [
       "(23547, 21)"
      ]
     },
     "execution_count": 53,
     "metadata": {},
     "output_type": "execute_result"
    }
   ],
   "source": [
    "# 1. Import melbourne dataframe, and try to handle missing values in the dataframe\n",
    "melb=pd.read_csv('melbourne.csv')\n",
    "melb.shape"
   ]
  },
  {
   "cell_type": "code",
   "execution_count": 4,
   "metadata": {},
   "outputs": [
    {
     "data": {
      "text/html": [
       "<div>\n",
       "<style scoped>\n",
       "    .dataframe tbody tr th:only-of-type {\n",
       "        vertical-align: middle;\n",
       "    }\n",
       "\n",
       "    .dataframe tbody tr th {\n",
       "        vertical-align: top;\n",
       "    }\n",
       "\n",
       "    .dataframe thead th {\n",
       "        text-align: right;\n",
       "    }\n",
       "</style>\n",
       "<table border=\"1\" class=\"dataframe\">\n",
       "  <thead>\n",
       "    <tr style=\"text-align: right;\">\n",
       "      <th></th>\n",
       "      <th>Suburb</th>\n",
       "      <th>Address</th>\n",
       "      <th>Rooms</th>\n",
       "      <th>Type</th>\n",
       "      <th>Price</th>\n",
       "      <th>Method</th>\n",
       "      <th>SellerG</th>\n",
       "      <th>Date</th>\n",
       "      <th>Distance</th>\n",
       "      <th>Postcode</th>\n",
       "      <th>...</th>\n",
       "      <th>Bathroom</th>\n",
       "      <th>Car</th>\n",
       "      <th>Landsize</th>\n",
       "      <th>BuildingArea</th>\n",
       "      <th>YearBuilt</th>\n",
       "      <th>CouncilArea</th>\n",
       "      <th>Lattitude</th>\n",
       "      <th>Longtitude</th>\n",
       "      <th>Regionname</th>\n",
       "      <th>Propertycount</th>\n",
       "    </tr>\n",
       "  </thead>\n",
       "  <tbody>\n",
       "    <tr>\n",
       "      <th>0</th>\n",
       "      <td>Abbotsford</td>\n",
       "      <td>68 Studley St</td>\n",
       "      <td>2</td>\n",
       "      <td>h</td>\n",
       "      <td>NaN</td>\n",
       "      <td>SS</td>\n",
       "      <td>Jellis</td>\n",
       "      <td>03-09-2016</td>\n",
       "      <td>2.5</td>\n",
       "      <td>3067.0</td>\n",
       "      <td>...</td>\n",
       "      <td>1.0</td>\n",
       "      <td>1.0</td>\n",
       "      <td>126.0</td>\n",
       "      <td>NaN</td>\n",
       "      <td>NaN</td>\n",
       "      <td>Yarra</td>\n",
       "      <td>-37.8014</td>\n",
       "      <td>144.9958</td>\n",
       "      <td>Northern Metropolitan</td>\n",
       "      <td>4019.0</td>\n",
       "    </tr>\n",
       "    <tr>\n",
       "      <th>1</th>\n",
       "      <td>Abbotsford</td>\n",
       "      <td>85 Turner St</td>\n",
       "      <td>2</td>\n",
       "      <td>h</td>\n",
       "      <td>1480000.0</td>\n",
       "      <td>S</td>\n",
       "      <td>Biggin</td>\n",
       "      <td>03-12-2016</td>\n",
       "      <td>2.5</td>\n",
       "      <td>3067.0</td>\n",
       "      <td>...</td>\n",
       "      <td>1.0</td>\n",
       "      <td>1.0</td>\n",
       "      <td>202.0</td>\n",
       "      <td>NaN</td>\n",
       "      <td>NaN</td>\n",
       "      <td>Yarra</td>\n",
       "      <td>-37.7996</td>\n",
       "      <td>144.9984</td>\n",
       "      <td>Northern Metropolitan</td>\n",
       "      <td>4019.0</td>\n",
       "    </tr>\n",
       "    <tr>\n",
       "      <th>2</th>\n",
       "      <td>Abbotsford</td>\n",
       "      <td>25 Bloomburg St</td>\n",
       "      <td>2</td>\n",
       "      <td>h</td>\n",
       "      <td>1035000.0</td>\n",
       "      <td>S</td>\n",
       "      <td>Biggin</td>\n",
       "      <td>04-02-2016</td>\n",
       "      <td>2.5</td>\n",
       "      <td>3067.0</td>\n",
       "      <td>...</td>\n",
       "      <td>1.0</td>\n",
       "      <td>0.0</td>\n",
       "      <td>156.0</td>\n",
       "      <td>79.0</td>\n",
       "      <td>1900.0</td>\n",
       "      <td>Yarra</td>\n",
       "      <td>-37.8079</td>\n",
       "      <td>144.9934</td>\n",
       "      <td>Northern Metropolitan</td>\n",
       "      <td>4019.0</td>\n",
       "    </tr>\n",
       "    <tr>\n",
       "      <th>3</th>\n",
       "      <td>Abbotsford</td>\n",
       "      <td>18/659 Victoria St</td>\n",
       "      <td>3</td>\n",
       "      <td>u</td>\n",
       "      <td>NaN</td>\n",
       "      <td>VB</td>\n",
       "      <td>Rounds</td>\n",
       "      <td>04-02-2016</td>\n",
       "      <td>2.5</td>\n",
       "      <td>3067.0</td>\n",
       "      <td>...</td>\n",
       "      <td>2.0</td>\n",
       "      <td>1.0</td>\n",
       "      <td>0.0</td>\n",
       "      <td>NaN</td>\n",
       "      <td>NaN</td>\n",
       "      <td>Yarra</td>\n",
       "      <td>-37.8114</td>\n",
       "      <td>145.0116</td>\n",
       "      <td>Northern Metropolitan</td>\n",
       "      <td>4019.0</td>\n",
       "    </tr>\n",
       "    <tr>\n",
       "      <th>4</th>\n",
       "      <td>Abbotsford</td>\n",
       "      <td>5 Charles St</td>\n",
       "      <td>3</td>\n",
       "      <td>h</td>\n",
       "      <td>1465000.0</td>\n",
       "      <td>SP</td>\n",
       "      <td>Biggin</td>\n",
       "      <td>04-03-2017</td>\n",
       "      <td>2.5</td>\n",
       "      <td>3067.0</td>\n",
       "      <td>...</td>\n",
       "      <td>2.0</td>\n",
       "      <td>0.0</td>\n",
       "      <td>134.0</td>\n",
       "      <td>150.0</td>\n",
       "      <td>1900.0</td>\n",
       "      <td>Yarra</td>\n",
       "      <td>-37.8093</td>\n",
       "      <td>144.9944</td>\n",
       "      <td>Northern Metropolitan</td>\n",
       "      <td>4019.0</td>\n",
       "    </tr>\n",
       "  </tbody>\n",
       "</table>\n",
       "<p>5 rows × 21 columns</p>\n",
       "</div>"
      ],
      "text/plain": [
       "       Suburb             Address  Rooms Type      Price Method SellerG  \\\n",
       "0  Abbotsford       68 Studley St      2    h        NaN     SS  Jellis   \n",
       "1  Abbotsford        85 Turner St      2    h  1480000.0      S  Biggin   \n",
       "2  Abbotsford     25 Bloomburg St      2    h  1035000.0      S  Biggin   \n",
       "3  Abbotsford  18/659 Victoria St      3    u        NaN     VB  Rounds   \n",
       "4  Abbotsford        5 Charles St      3    h  1465000.0     SP  Biggin   \n",
       "\n",
       "         Date  Distance  Postcode  ...  Bathroom  Car  Landsize  BuildingArea  \\\n",
       "0  03-09-2016       2.5    3067.0  ...       1.0  1.0     126.0           NaN   \n",
       "1  03-12-2016       2.5    3067.0  ...       1.0  1.0     202.0           NaN   \n",
       "2  04-02-2016       2.5    3067.0  ...       1.0  0.0     156.0          79.0   \n",
       "3  04-02-2016       2.5    3067.0  ...       2.0  1.0       0.0           NaN   \n",
       "4  04-03-2017       2.5    3067.0  ...       2.0  0.0     134.0         150.0   \n",
       "\n",
       "   YearBuilt  CouncilArea Lattitude  Longtitude             Regionname  \\\n",
       "0        NaN        Yarra  -37.8014    144.9958  Northern Metropolitan   \n",
       "1        NaN        Yarra  -37.7996    144.9984  Northern Metropolitan   \n",
       "2     1900.0        Yarra  -37.8079    144.9934  Northern Metropolitan   \n",
       "3        NaN        Yarra  -37.8114    145.0116  Northern Metropolitan   \n",
       "4     1900.0        Yarra  -37.8093    144.9944  Northern Metropolitan   \n",
       "\n",
       "  Propertycount  \n",
       "0        4019.0  \n",
       "1        4019.0  \n",
       "2        4019.0  \n",
       "3        4019.0  \n",
       "4        4019.0  \n",
       "\n",
       "[5 rows x 21 columns]"
      ]
     },
     "execution_count": 4,
     "metadata": {},
     "output_type": "execute_result"
    }
   ],
   "source": [
    "# 2. Show head of the dataset\n",
    "melb.head()"
   ]
  },
  {
   "cell_type": "code",
   "execution_count": 27,
   "metadata": {},
   "outputs": [
    {
     "name": "stdout",
     "output_type": "stream",
     "text": [
      "Number of missing values for each column:\n",
      " Suburb               0\n",
      "Address              0\n",
      "Rooms                0\n",
      "Type                 0\n",
      "Price             5151\n",
      "Method               0\n",
      "SellerG              0\n",
      "Date                 0\n",
      "Distance             1\n",
      "Postcode             1\n",
      "Bedroom2          4481\n",
      "Bathroom          4484\n",
      "Car               4626\n",
      "Landsize          6137\n",
      "BuildingArea     13529\n",
      "YearBuilt        12007\n",
      "CouncilArea       7891\n",
      "Lattitude         4304\n",
      "Longtitude        4304\n",
      "Regionname           1\n",
      "Propertycount        1\n",
      "dtype: int64\n",
      "---------------------------------------- \n",
      "\n",
      "Percentatge of missing values for each column:\n",
      " Suburb            0.0\n",
      "Address           0.0\n",
      "Rooms             0.0\n",
      "Type              0.0\n",
      "Price            22.0\n",
      "Method            0.0\n",
      "SellerG           0.0\n",
      "Date              0.0\n",
      "Distance          0.0\n",
      "Postcode          0.0\n",
      "Bedroom2         19.0\n",
      "Bathroom         19.0\n",
      "Car              20.0\n",
      "Landsize         26.0\n",
      "BuildingArea     57.0\n",
      "YearBuilt        51.0\n",
      "CouncilArea      34.0\n",
      "Lattitude        18.0\n",
      "Longtitude       18.0\n",
      "Regionname        0.0\n",
      "Propertycount     0.0\n",
      "dtype: float64\n"
     ]
    }
   ],
   "source": [
    "# 3. Check the percentatge of missing values in the columns of the dataset.\n",
    "#    3.1. First of all get the amount of missing values for each column.\n",
    "#    3.2. Then get the percentatge of missing values for each column.\n",
    "print ('Number of missing values for each column:\\n', melb.isnull().sum())\n",
    "print('----------------------------------------', '\\n')\n",
    "print ('Percentatge of missing values for each column:\\n', round(melb.isnull().sum()*100/melb.shape[0]))"
   ]
  },
  {
   "cell_type": "code",
   "execution_count": 52,
   "metadata": {},
   "outputs": [],
   "source": [
    "# 4. Remove missing columns with 33% to 56% calculations.\n",
    "#    - You can do this manually by deleting all three columns that meet this condition.\n",
    "#    - Or you can program it to automatically detect from the previous result those columns that meet the condition."
   ]
  },
  {
   "cell_type": "code",
   "execution_count": 31,
   "metadata": {},
   "outputs": [
    {
     "name": "stdout",
     "output_type": "stream",
     "text": [
      "Percentatge of missing values for each column:\n",
      " Suburb            0.0\n",
      "Address           0.0\n",
      "Rooms             0.0\n",
      "Type              0.0\n",
      "Price            22.0\n",
      "Method            0.0\n",
      "SellerG           0.0\n",
      "Date              0.0\n",
      "Distance          0.0\n",
      "Postcode          0.0\n",
      "Bedroom2         19.0\n",
      "Bathroom         19.0\n",
      "Car              20.0\n",
      "Landsize         26.0\n",
      "Lattitude        18.0\n",
      "Longtitude       18.0\n",
      "Regionname        0.0\n",
      "Propertycount     0.0\n",
      "dtype: float64\n"
     ]
    }
   ],
   "source": [
    "#Manually:\n",
    "melb=melb.drop(['BuildingArea','YearBuilt','CouncilArea'],axis=1)\n",
    "print ('Percentatge of missing values for each column:\\n', round(melb.isnull().sum()*100/melb.shape[0]))"
   ]
  },
  {
   "cell_type": "code",
   "execution_count": 46,
   "metadata": {},
   "outputs": [
    {
     "data": {
      "text/plain": [
       "Index(['BuildingArea', 'YearBuilt', 'CouncilArea'], dtype='object')"
      ]
     },
     "execution_count": 46,
     "metadata": {},
     "output_type": "execute_result"
    }
   ],
   "source": [
    "#Automatically\n",
    "melb.isnull().sum().index[(round(melb.isnull().sum()*100/melb.shape[0])>33)]"
   ]
  },
  {
   "cell_type": "code",
   "execution_count": 54,
   "metadata": {},
   "outputs": [
    {
     "name": "stdout",
     "output_type": "stream",
     "text": [
      "Percentatge of missing values for each column:\n",
      " Suburb            0.0\n",
      "Address           0.0\n",
      "Rooms             0.0\n",
      "Type              0.0\n",
      "Price            22.0\n",
      "Method            0.0\n",
      "SellerG           0.0\n",
      "Date              0.0\n",
      "Distance          0.0\n",
      "Postcode          0.0\n",
      "Bedroom2         19.0\n",
      "Bathroom         19.0\n",
      "Car              20.0\n",
      "Landsize         26.0\n",
      "Lattitude        18.0\n",
      "Longtitude       18.0\n",
      "Regionname        0.0\n",
      "Propertycount     0.0\n",
      "dtype: float64\n"
     ]
    }
   ],
   "source": [
    "melb=melb[melb.isnull().sum().index[(round(melb.isnull().sum()*100/melb.shape[0])<33)]]\n",
    "print ('Percentatge of missing values for each column:\\n', round(melb.isnull().sum()*100/melb.shape[0]))"
   ]
  },
  {
   "cell_type": "code",
   "execution_count": 65,
   "metadata": {},
   "outputs": [
    {
     "name": "stdout",
     "output_type": "stream",
     "text": [
      "Suburb            0.0\n",
      "Address           0.0\n",
      "Rooms             0.0\n",
      "Type              0.0\n",
      "Price             0.0\n",
      "Method            0.0\n",
      "SellerG           0.0\n",
      "Date              0.0\n",
      "Distance          0.0\n",
      "Postcode          0.0\n",
      "Bedroom2         19.0\n",
      "Bathroom         19.0\n",
      "Car              20.0\n",
      "Landsize         26.0\n",
      "Lattitude        18.0\n",
      "Longtitude       18.0\n",
      "Regionname        0.0\n",
      "Propertycount     0.0\n",
      "dtype: float64\n"
     ]
    }
   ],
   "source": [
    "# 5. Removing all the rows where there is a missing value in the Price column.\n",
    "melb['Price']=melb['Price'].isnull()==False ##dropna() didn't work\n",
    "print(round(melb.isnull().sum()*100/melb.shape[0]))"
   ]
  },
  {
   "cell_type": "code",
   "execution_count": 64,
   "metadata": {},
   "outputs": [
    {
     "data": {
      "text/html": [
       "<div>\n",
       "<style scoped>\n",
       "    .dataframe tbody tr th:only-of-type {\n",
       "        vertical-align: middle;\n",
       "    }\n",
       "\n",
       "    .dataframe tbody tr th {\n",
       "        vertical-align: top;\n",
       "    }\n",
       "\n",
       "    .dataframe thead th {\n",
       "        text-align: right;\n",
       "    }\n",
       "</style>\n",
       "<table border=\"1\" class=\"dataframe\">\n",
       "  <thead>\n",
       "    <tr style=\"text-align: right;\">\n",
       "      <th></th>\n",
       "      <th>Lattitude</th>\n",
       "      <th>Longtitude</th>\n",
       "    </tr>\n",
       "  </thead>\n",
       "  <tbody>\n",
       "    <tr>\n",
       "      <th>count</th>\n",
       "      <td>15064.000000</td>\n",
       "      <td>15064.000000</td>\n",
       "    </tr>\n",
       "    <tr>\n",
       "      <th>mean</th>\n",
       "      <td>-37.809849</td>\n",
       "      <td>144.996338</td>\n",
       "    </tr>\n",
       "    <tr>\n",
       "      <th>std</th>\n",
       "      <td>0.081152</td>\n",
       "      <td>0.106375</td>\n",
       "    </tr>\n",
       "    <tr>\n",
       "      <th>min</th>\n",
       "      <td>-38.182550</td>\n",
       "      <td>144.431810</td>\n",
       "    </tr>\n",
       "    <tr>\n",
       "      <th>25%</th>\n",
       "      <td>-37.858100</td>\n",
       "      <td>144.931193</td>\n",
       "    </tr>\n",
       "    <tr>\n",
       "      <th>50%</th>\n",
       "      <td>-37.803625</td>\n",
       "      <td>145.000920</td>\n",
       "    </tr>\n",
       "    <tr>\n",
       "      <th>75%</th>\n",
       "      <td>-37.756270</td>\n",
       "      <td>145.060000</td>\n",
       "    </tr>\n",
       "    <tr>\n",
       "      <th>max</th>\n",
       "      <td>-37.408530</td>\n",
       "      <td>145.526350</td>\n",
       "    </tr>\n",
       "  </tbody>\n",
       "</table>\n",
       "</div>"
      ],
      "text/plain": [
       "          Lattitude    Longtitude\n",
       "count  15064.000000  15064.000000\n",
       "mean     -37.809849    144.996338\n",
       "std        0.081152      0.106375\n",
       "min      -38.182550    144.431810\n",
       "25%      -37.858100    144.931193\n",
       "50%      -37.803625    145.000920\n",
       "75%      -37.756270    145.060000\n",
       "max      -37.408530    145.526350"
      ]
     },
     "execution_count": 64,
     "metadata": {},
     "output_type": "execute_result"
    }
   ],
   "source": [
    "# Describing the values for lattitude and longitude \n",
    "data[['Lattitude','Longtitude']].describe()"
   ]
  },
  {
   "cell_type": "code",
   "execution_count": 70,
   "metadata": {},
   "outputs": [
    {
     "name": "stdout",
     "output_type": "stream",
     "text": [
      "Suburb            0.0\n",
      "Address           0.0\n",
      "Rooms             0.0\n",
      "Type              0.0\n",
      "Price             0.0\n",
      "Method            0.0\n",
      "SellerG           0.0\n",
      "Date              0.0\n",
      "Distance          0.0\n",
      "Postcode          0.0\n",
      "Bedroom2         19.0\n",
      "Bathroom         19.0\n",
      "Car              20.0\n",
      "Landsize         26.0\n",
      "Lattitude         0.0\n",
      "Longtitude        0.0\n",
      "Regionname        0.0\n",
      "Propertycount     0.0\n",
      "dtype: float64\n"
     ]
    }
   ],
   "source": [
    "# 6. Use mean function to impute the values in Lattitude and Longitude\n",
    "melb['Lattitude']=melb['Lattitude'].fillna(melb['Lattitude'].mean())\n",
    "melb['Longtitude']=melb['Longtitude'].fillna(melb['Longtitude'].mean())\n",
    "print(round(melb.isnull().sum()*100/melb.shape[0]))"
   ]
  },
  {
   "cell_type": "code",
   "execution_count": 72,
   "metadata": {},
   "outputs": [
    {
     "name": "stdout",
     "output_type": "stream",
     "text": [
      "Suburb            0.0\n",
      "Address           0.0\n",
      "Rooms             0.0\n",
      "Type              0.0\n",
      "Price             0.0\n",
      "Method            0.0\n",
      "SellerG           0.0\n",
      "Date              0.0\n",
      "Distance          0.0\n",
      "Postcode          0.0\n",
      "Bedroom2         19.0\n",
      "Bathroom          0.0\n",
      "Car               0.0\n",
      "Landsize         26.0\n",
      "Lattitude         0.0\n",
      "Longtitude        0.0\n",
      "Regionname        0.0\n",
      "Propertycount     0.0\n",
      "dtype: float64\n"
     ]
    }
   ],
   "source": [
    "# 7. We have to impute the values in categorical columns (Bathroom and Car) using the Mode() function\n",
    "melb['Bathroom']=melb['Bathroom'].fillna(melb['Bathroom'].mode()[0])\n",
    "melb['Car']=melb['Car'].fillna(melb['Car'].mode()[0])\n",
    "print(round(melb.isnull().sum()*100/melb.shape[0]))"
   ]
  },
  {
   "cell_type": "code",
   "execution_count": 82,
   "metadata": {},
   "outputs": [
    {
     "name": "stdout",
     "output_type": "stream",
     "text": [
      "Suburb            0.0\n",
      "Address           0.0\n",
      "Rooms             0.0\n",
      "Type              0.0\n",
      "Price             0.0\n",
      "Method            0.0\n",
      "SellerG           0.0\n",
      "Date              0.0\n",
      "Distance          0.0\n",
      "Postcode          0.0\n",
      "Bedroom2         19.0\n",
      "Bathroom          0.0\n",
      "Car               0.0\n",
      "Landsize          0.0\n",
      "Lattitude         0.0\n",
      "Longtitude        0.0\n",
      "Regionname        0.0\n",
      "Propertycount     0.0\n",
      "dtype: float64\n"
     ]
    }
   ],
   "source": [
    "# 8. Finally remove all the rows that contains missing values for the column \"Landsize\"\n",
    "melb['Landsize']=melb['Landsize'].isnull()==False\n",
    "#Check it: data['Landsize'].isnull().sum()\n",
    "print(round(melb.isnull().sum()*100/melb.shape[0]))"
   ]
  },
  {
   "cell_type": "code",
   "execution_count": 83,
   "metadata": {},
   "outputs": [
    {
     "data": {
      "text/plain": [
       "0"
      ]
     },
     "execution_count": 83,
     "metadata": {},
     "output_type": "execute_result"
    }
   ],
   "source": [
    "melb['Landsize'].isnull().sum()"
   ]
  },
  {
   "cell_type": "code",
   "execution_count": 84,
   "metadata": {},
   "outputs": [],
   "source": [
    "#I filled the missing values in Bedroom2 with it's mean\n",
    "melb['Bedroom2']=melb['Bedroom2'].fillna(round(melb['Bedroom2'].mean(),1))"
   ]
  },
  {
   "cell_type": "code",
   "execution_count": 85,
   "metadata": {},
   "outputs": [
    {
     "name": "stdout",
     "output_type": "stream",
     "text": [
      "Suburb           0.0\n",
      "Address          0.0\n",
      "Rooms            0.0\n",
      "Type             0.0\n",
      "Price            0.0\n",
      "Method           0.0\n",
      "SellerG          0.0\n",
      "Date             0.0\n",
      "Distance         0.0\n",
      "Postcode         0.0\n",
      "Bedroom2         0.0\n",
      "Bathroom         0.0\n",
      "Car              0.0\n",
      "Landsize         0.0\n",
      "Lattitude        0.0\n",
      "Longtitude       0.0\n",
      "Regionname       0.0\n",
      "Propertycount    0.0\n",
      "dtype: float64\n"
     ]
    }
   ],
   "source": [
    "print(round(melb.isnull().sum()*100/melb.shape[0]))"
   ]
  },
  {
   "cell_type": "code",
   "execution_count": 88,
   "metadata": {},
   "outputs": [
    {
     "data": {
      "text/plain": [
       "Suburb           0\n",
       "Address          0\n",
       "Rooms            0\n",
       "Type             0\n",
       "Price            0\n",
       "Method           0\n",
       "SellerG          0\n",
       "Date             0\n",
       "Distance         1\n",
       "Postcode         1\n",
       "Bedroom2         0\n",
       "Bathroom         0\n",
       "Car              0\n",
       "Landsize         0\n",
       "Lattitude        0\n",
       "Longtitude       0\n",
       "Regionname       1\n",
       "Propertycount    1\n",
       "dtype: int64"
      ]
     },
     "execution_count": 88,
     "metadata": {},
     "output_type": "execute_result"
    }
   ],
   "source": [
    "# Check there are no missing values at all:\n",
    "melb.isnull().sum()"
   ]
  },
  {
   "cell_type": "code",
   "execution_count": 91,
   "metadata": {},
   "outputs": [
    {
     "data": {
      "text/plain": [
       "0"
      ]
     },
     "execution_count": 91,
     "metadata": {},
     "output_type": "execute_result"
    }
   ],
   "source": [
    "#I removed the rows where there is a missing value in the columns left\n",
    "melb['Distance']=melb['Distance'].isnull()==False\n",
    "melb['Postcode']=melb['Postcode'].isnull()==False\n",
    "melb['Regionname']=melb['Regionname'].isnull()==False\n",
    "melb['Propertycount']=melb['Propertycount'].isnull()==False\n",
    "melb.isnull().sum().sum()"
   ]
  }
 ],
 "metadata": {
  "kernelspec": {
   "display_name": "Python 3 (ipykernel)",
   "language": "python",
   "name": "python3"
  },
  "language_info": {
   "codemirror_mode": {
    "name": "ipython",
    "version": 3
   },
   "file_extension": ".py",
   "mimetype": "text/x-python",
   "name": "python",
   "nbconvert_exporter": "python",
   "pygments_lexer": "ipython3",
   "version": "3.9.7"
  }
 },
 "nbformat": 4,
 "nbformat_minor": 4
}
